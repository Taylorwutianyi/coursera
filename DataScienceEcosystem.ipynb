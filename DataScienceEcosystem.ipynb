{
 "cells": [
  {
   "cell_type": "markdown",
   "id": "4c26149c-bf3a-4895-b315-3ec756339d13",
   "metadata": {},
   "source": [
    "# Data Science Tools and Ecosystem"
   ]
  },
  {
   "cell_type": "markdown",
   "id": "ae236766-f117-4b39-93ae-df89500ad361",
   "metadata": {},
   "source": [
    "In this notebook, Data Science Tools and Ecosystem are summarized."
   ]
  },
  {
   "cell_type": "markdown",
   "id": "ff97d64b-ceba-4bd3-bc3a-3e2877bb22fe",
   "metadata": {},
   "source": [
    "**Objectives:**\n",
    "- List popular languages for Data Science\n",
    "- List common libraries used by Data Science\n",
    "- List three development environment open source tools used in Data Science\n",
    "- List a few examples of evaluating arithmetic expressions in Python"
   ]
  },
  {
   "cell_type": "markdown",
   "id": "f0941b35-3952-4e60-ab2a-162c4f575e5e",
   "metadata": {},
   "source": [
    "Some of the popular languages that Data Scientists use are:\n",
    "1. Python\n",
    "2. Scala\n",
    "3. R"
   ]
  },
  {
   "cell_type": "markdown",
   "id": "4a31b430-5b3c-4543-99a1-ac0b61dd7cf2",
   "metadata": {},
   "source": [
    "Some of the commonly used libraries used by Data Scientists include:\n",
    "1. Pandas\n",
    "2. Matplotlib\n",
    "3. Scikit-learn"
   ]
  },
  {
   "cell_type": "markdown",
   "id": "55699229-917a-43ac-83d1-99419aae0fbd",
   "metadata": {},
   "source": [
    "Data Science Tools|\n",
    "---\n",
    "Jupyter Notebook|\n",
    "VSCode|\n",
    "Spyder|"
   ]
  },
  {
   "cell_type": "markdown",
   "id": "6622d182-1e53-4401-ab9d-056adf331829",
   "metadata": {},
   "source": [
    "### Below are a few examples of evaluating arithmetic expressions in Python"
   ]
  },
  {
   "cell_type": "code",
   "execution_count": 1,
   "id": "080a4f6d-bf18-4ddb-b587-3c2ef8e7fe19",
   "metadata": {
    "tags": []
   },
   "outputs": [
    {
     "data": {
      "text/plain": [
       "17"
      ]
     },
     "execution_count": 1,
     "metadata": {},
     "output_type": "execute_result"
    }
   ],
   "source": [
    "# This a simple arithmetic expression to mutiply then add integers\n",
    "(3*4)+5"
   ]
  },
  {
   "cell_type": "code",
   "execution_count": 2,
   "id": "a3430007-32b9-43ed-abb6-9efc77ff8442",
   "metadata": {
    "tags": []
   },
   "outputs": [
    {
     "data": {
      "text/plain": [
       "3.3333333333333335"
      ]
     },
     "execution_count": 2,
     "metadata": {},
     "output_type": "execute_result"
    }
   ],
   "source": [
    "# This will convert 200 minutes to hours by diving by 60\n",
    "200 / 60"
   ]
  },
  {
   "cell_type": "markdown",
   "id": "cda1e10b-76a7-4b42-9940-bf9cc9bfe89b",
   "metadata": {},
   "source": [
    "## Author\n",
    "Tianyi Wu"
   ]
  },
  {
   "cell_type": "code",
   "execution_count": null,
   "id": "5610c7c2-541e-41f0-9404-d2a439ef7a9d",
   "metadata": {},
   "outputs": [],
   "source": []
  }
 ],
 "metadata": {
  "kernelspec": {
   "display_name": "Python",
   "language": "python",
   "name": "conda-env-python-py"
  },
  "language_info": {
   "codemirror_mode": {
    "name": "ipython",
    "version": 3
   },
   "file_extension": ".py",
   "mimetype": "text/x-python",
   "name": "python",
   "nbconvert_exporter": "python",
   "pygments_lexer": "ipython3",
   "version": "3.7.12"
  }
 },
 "nbformat": 4,
 "nbformat_minor": 5
}
